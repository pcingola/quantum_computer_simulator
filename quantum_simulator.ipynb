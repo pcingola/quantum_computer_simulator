{
 "cells": [
  {
   "cell_type": "markdown",
   "metadata": {},
   "source": [
    "# Naive Quantum Computer Simulator"
   ]
  },
  {
   "cell_type": "code",
   "execution_count": null,
   "metadata": {},
   "outputs": [],
   "source": [
    "print(\"Start!\")"
   ]
  },
  {
   "cell_type": "code",
   "execution_count": null,
   "metadata": {},
   "outputs": [],
   "source": [
    "import numpy as np\n",
    "import string"
   ]
  },
  {
   "cell_type": "code",
   "execution_count": null,
   "metadata": {},
   "outputs": [],
   "source": [
    "# Constants\n",
    "\n",
    "# Constant: e^(i pi / 4) = (1+i) / sqrt(2)\n",
    "EIPIO4 = (1 + 1j) / np.sqrt(2)\n",
    "\n",
    "# Constant: 1/sqrt(2)\n",
    "OOST = 1 / np.sqrt(2)\n",
    "\n",
    "# A small number\n",
    "epsilon = 1e-6"
   ]
  },
  {
   "cell_type": "code",
   "execution_count": null,
   "metadata": {},
   "outputs": [],
   "source": [
    "# Define 1-qubit gates\n",
    "\n",
    "IDENTITY = np.array([[1, 0],[0, 1]])\n",
    "SIGMA_X = np.array([[0, 1],[1, 0]])\n",
    "SIGMA_Y = np.array([[0, -1j],[1j, 0]])\n",
    "SIGMA_Z = np.array([[1, 0],[0, -1]])\n",
    "HADAMARD = 1/np.sqrt(2) * np.array([[1, 1],[1, -1]])\n",
    "S_GATE = np.array([[1, 0], [0, 1j]])\n",
    "T_GATE = np.array([[1, 0], [0, EIPIO4]])\n",
    "SX_GATE = 1/2 * np.array([[1 + 1j, 1 - 1j], [1 - 1j, 1 + 1j]])"
   ]
  },
  {
   "cell_type": "code",
   "execution_count": null,
   "metadata": {},
   "outputs": [],
   "source": [
    "# Define 2-Qubits gates\n",
    "\n",
    "CNOT = np.array([\n",
    "                [[[1, 0], [0, 0]], \n",
    "                 [[0, 1], [0, 0]]], \n",
    "                [[[0, 0], [0, 1]],\n",
    "                 [[0, 0], [1, 0]]]\n",
    "                ])\n",
    "\n",
    "CZ = np.array([\n",
    "                [[[1, 0], [0, 0]], \n",
    "                 [[0, 1], [0, 0]]],\n",
    "                [[[0, 0], [1, 0]],\n",
    "                 [[0, 0], [0, -1]]]\n",
    "                ])"
   ]
  },
  {
   "cell_type": "markdown",
   "metadata": {},
   "source": [
    "### Quantum computer class"
   ]
  },
  {
   "cell_type": "code",
   "execution_count": null,
   "metadata": {},
   "outputs": [],
   "source": [
    "MAX_QUBITS = len(string.ascii_lowercase) - 4\n",
    "\n",
    "class QuantumComputer:\n",
    "    \"\"\"\n",
    "    Implement a simple (and extremelly inneficient) quantum computer simulator\n",
    "    \"\"\"\n",
    "    \n",
    "    def __init__(self, num_qubits):\n",
    "        \"\"\"\n",
    "        Initialize a quantum computer simulator with 'num_qubits' \n",
    "        \"\"\"\n",
    "        self.num_qubits = num_qubits\n",
    "        assert num_qubits > 0, f\"Number of Qubits must be positive, got {num_qubits}\"\n",
    "        assert num_qubits < MAX_QUBITS, f\"Cannot simulate more than {MAX_QUBITS} Qubits!\"\n",
    "        # Initialize as a tensor of num_qubits. Two dimensions per qubit, so the total size of the vector is 2^n elements\n",
    "        self.psi = np.zeros([2] * num_qubits, dtype=complex)\n",
    "        # Set the first element of the (flattened) state to one, this corresponds to state |0000...000>\n",
    "        self.psi.flat[0] = 1\n",
    "\n",
    "    def apply_one_qubit_gate(self,U, n):\n",
    "        \"\"\"\n",
    "        Apply unary operator 'U' to single Qubit number 'n'. We use Einstein sums (np.einssum).\n",
    "        The subscritps are:\n",
    "            - psi[a, b, c, ...] : Note that we assume there are at most \n",
    "            - U[y, z] : We use the last two leters of the alphabet instead of the most standard 'i' and 'j' to allow modeling a few more qubits\n",
    "        \"\"\"\n",
    "        subscripts =  f\"yz , {self.eins_vars(n, 'z')} -> {self.eins_vars(n, 'y')}\"\n",
    "        self.psi = np.einsum(subscripts, U, self.psi)\n",
    "\n",
    "    def apply_two_qubit_gate(self,U, n0, n1):\n",
    "        \"\"\"\n",
    "        Apply unary operator 'U' to two Qubit numbers 'n0' and 'n1'\n",
    "        For example aplying.a CNOT, n0 is the control qubit and n1 the target qubit\n",
    "        The subscritps are:\n",
    "            - psi[a, b, c, ...] : Note that we assume there are at most \n",
    "            - U[w, x, y, z] : We use the last four leters of the alphabet\n",
    "        \"\"\"\n",
    "        subscripts =  f\"wxyz , {self.eins_vars(n0, 'y', n1, 'z')} -> {self.eins_vars(n0, 'w', n1, 'x')}\"\n",
    "        self.psi = np.einsum(subscripts, U, self.psi)\n",
    "\n",
    "    def eins_vars(self, n1, char1, n2=None, char2=''):\n",
    "        \"\"\"\n",
    "        Create a string with index names for an einstein sum, replace item 'n1' with character 'char1'\n",
    "        and 'n2' with character 'char2' (if n2 is non-negative)\n",
    "        Note: We are assuming that there are at most len(string.ascii_lowercase) Qubits, which is a reasonable limitation for a standard laptop\n",
    "        \"\"\"\n",
    "        assert (n1 >= 0) and (n1 < self.num_qubits), f\"Error: Qubit number {n1} out of range\"\n",
    "        assert (n2 is None) or ((n2 >= 0) and (n2 < self.num_qubits)), f\"Error: Qubit number {n2} out of range\"\n",
    "        assert (n1 != n2), f\"Error: Qubit numbers should be different: n1={n1}, n2={n2}\"\n",
    "        eins = list(string.ascii_lowercase[:self.num_qubits])\n",
    "        eins[n1] = char1\n",
    "        if n2 is not None:\n",
    "            eins[n2] = char2\n",
    "        return ''.join(eins)\n",
    "\n",
    "    def cnot(self, n0, n1):\n",
    "        \"\"\" CNOT gate: 'n0' is the control qubit and 'n1' it the target qubit \"\"\"\n",
    "        self.apply_two_qubit_gate(CNOT, n0, n1)\n",
    "        \n",
    "    def cx(self, n0, n1):\n",
    "        \"\"\" Alias for CNOT \"\"\"\n",
    "        self.cnot(n0, n1)\n",
    "\n",
    "    def cz(self, n0, n1):\n",
    "        \"\"\" CZ gate: 'n0' is the control qubit and 'n1' it the target qubit \"\"\"\n",
    "        self.apply_two_qubit_gate(CZ, n0, n1)\n",
    "\n",
    "    def h(self, n):\n",
    "        \"\"\" Apply Hadamard gate to qubit n \"\"\"\n",
    "        self.apply_one_qubit_gate(HADAMARD, n)\n",
    "\n",
    "    def identity(self, n):\n",
    "        \"\"\" Apply I to qubit n \"\"\"\n",
    "        self.apply_one_qubit_gate(IDENTITY, n)\n",
    "\n",
    "    def _mask_ones(self, n):\n",
    "        \"\"\"\n",
    "        Create a mask cosisting of all 1s except at bit 'n' \n",
    "        E.g. for a num_qubits=4\n",
    "           _mask_ones(0) = 1110\n",
    "           _mask_ones(1) = 1101\n",
    "           _mask_ones(2) = 1011\n",
    "           _mask_ones(3) = 0111\n",
    "        \"\"\"\n",
    "        return ((1 << self.num_qubits) - 1) ^ (1 << (self.num_qubits - n - 1))\n",
    "    \n",
    "    def _mask_zeros(self, n):\n",
    "        \"\"\"\n",
    "        Create a bit mask of all zeros, except qubit 'n' \n",
    "        E.g. for a num_qubits=4\n",
    "           _mask_zeros(0) = 0001\n",
    "           _mask_zeros(1) = 0010\n",
    "           _mask_zeros(2) = 0100\n",
    "           _mask_zeros(3) = 1000\n",
    "        \"\"\"\n",
    "        return 1 << (self.num_qubits - n - 1)\n",
    "\n",
    "    def measure(self, n):\n",
    "        \"\"\"\n",
    "        Measure Qubit number 'n'\n",
    "        \"\"\"\n",
    "        # Calculate a probabilities for qubit 'n'\n",
    "        p = self.probabilities(n)\n",
    "        # Measure a random bit according to p[0] and p[1], i.e. Bernoulli distribution\n",
    "        r = np.random.rand()\n",
    "        bit = 0 if r <= p[0] else 1\n",
    "        # Update the system's state after measurement\n",
    "        self._update_psi(n, bit, p)\n",
    "        return bit\n",
    "\n",
    "    def probabilities(self, n):\n",
    "        \"\"\"\n",
    "        Return measurement probabilities \n",
    "        Note: Returns an array of two probabilities for measuting states 0 and 1 in standard / computational basis\n",
    "        \"\"\"\n",
    "        subscripts = f\"yz , {self.eins_vars(n, 'z')} -> y\"\n",
    "        psi_p = np.square(np.abs(self.psi))\n",
    "        p = np.einsum(subscripts, IDENTITY, psi_p)\n",
    "        assert len(p) == 2, f\"Error: Probability vector should be length 2, got {p.shape}\"\n",
    "        assert np.abs(1 - np.sum(p)) < epsilon, f\"Error: Probabilities don't add up p_0 + p_1 =  {p}\\n\\tamp = {amp}\"\n",
    "        return p\n",
    "\n",
    "    def __repr__(self):\n",
    "        \"\"\" Show the system's state \"\"\"\n",
    "        # Iterate over the state keeping track of the multi-dimensional index\n",
    "        it = np.nditer(self.psi, flags=['multi_index']) \n",
    "        state = dict()\n",
    "        for psi_i in it:\n",
    "            state_str = ''.join([str(q) for q in it.multi_index]) # Convert a tuple index to a string without separation\n",
    "            state_str = state_str[::-1] # Reverse string\n",
    "            state[state_str] = psi_i\n",
    "        s = f\"Number of Qubits: {self.num_qubits}\\npsi:\\n\"\n",
    "        for k in sorted(state.keys()):\n",
    "            s += f\"\\t|{k}> : {state[k]}\\n\" # Show state and value\n",
    "        return s\n",
    "\n",
    "    def s(self, n):\n",
    "        \"\"\" Apply S gate to qubit n \"\"\"\n",
    "        self.apply_one_qubit_gate(S_GATE, n)\n",
    "\n",
    "    def state_flat(self):\n",
    "        \"\"\"\n",
    "        Shows the state tensor flattened (in state order)\n",
    "        Useful for comparing to other programs (e.g. IBM quantum composer's state vector)\n",
    "        \"\"\"\n",
    "        it = np.nditer(self.psi, flags=['multi_index'])\n",
    "        state = dict()\n",
    "        for psi_i in it:\n",
    "            state_str = ''.join([str(q) for q in it.multi_index]) # Convert a tuple index to a string without separation\n",
    "            state_str = state_str[::-1] # Reverse string\n",
    "            state[state_str] = psi_i\n",
    "        psi_flat = np.zeros(self.psi.size, dtype=complex)\n",
    "        for i, k in enumerate(sorted(state.keys())):\n",
    "            psi_flat[i] = state[k]\n",
    "        return psi_flat\n",
    "\n",
    "    def sx(self, n):\n",
    "        \"\"\" Apply SX gate (a.k.a. square root of X) to qubit n \"\"\"\n",
    "        self.apply_one_qubit_gate(SX_GATE, n)\n",
    "\n",
    "    def t(self, n):\n",
    "        \"\"\" Apply T gate to qubit n \"\"\"\n",
    "        self.apply_one_qubit_gate(T_GATE, n)\n",
    "    \n",
    "    def _update_psi(self, n, bit, p):\n",
    "        \"\"\" Update state according to measured qubit 'n' with value 'bit' \"\"\"\n",
    "        # Set to zero all amplitudes for states that are NOT compatible with our measurement (bit)\n",
    "        # The psudo code to reset the amplitudes would be:\n",
    "        #     psi[:, :, :, not_bit, :, :, :] = 0\n",
    "        #   where 'not_bit' is the opposite of what we measured (i.e. the opposite of `bit` is `1 - bit`)\n",
    "        idx =  [slice(0, 2)] * self.num_qubits # A list of slices\n",
    "        idx[n] = 1 - bit # Set index 'n' as the negation of 'bit'\n",
    "        self.psi[ tuple(idx) ] = 0 # Reset amplitudes\n",
    "        self.psi = self.psi / np.linalg.norm(self.psi) # Re-normalize psi\n",
    "\n",
    "    def x(self, n):\n",
    "        \"\"\" Apply X to qubit n \"\"\"\n",
    "        self.apply_one_qubit_gate(SIGMA_X, n)\n",
    "\n",
    "    def y(self, n):\n",
    "        \"\"\" Apply Y to qubit n \"\"\"\n",
    "        self.apply_one_qubit_gate(SIGMA_Y, n)\n",
    "\n",
    "    def z(self, n):\n",
    "        \"\"\" Apply Z to qubit n \"\"\"\n",
    "        self.apply_one_qubit_gate(SIGMA_Z, n)"
   ]
  },
  {
   "cell_type": "markdown",
   "metadata": {},
   "source": [
    "### Random Quantum cirquit generator\n",
    "\n",
    "This can be used to create test cases"
   ]
  },
  {
   "cell_type": "code",
   "execution_count": null,
   "metadata": {},
   "outputs": [],
   "source": [
    "ALL_GATES = {'x': SIGMA_X, 'y': SIGMA_Y, 'z': SIGMA_Z, 'h': HADAMARD, 's': S_GATE, 't': T_GATE, 'sx': SX_GATE, 'cx': CNOT, 'cz': CZ}\n",
    "\n",
    "class RandomCircuit:\n",
    "    \"\"\" Create a random quantum circuit \"\"\"\n",
    "    def __init__(self, num_qubits, num_gates, seed=None):\n",
    "        self.num_qubits, self.num_gates = num_qubits, num_gates\n",
    "        assert num_qubits >= 2\n",
    "        assert num_gates >= 1\n",
    "        self.qasm = []\n",
    "        self.ops = []\n",
    "        np.random.seed(seed)\n",
    "        \n",
    "    def add_random_gate(self):\n",
    "        gate, gate_name = self.rand_gate()\n",
    "        l = len(gate.flat)\n",
    "        if l == 4:\n",
    "            # Randomly select qubit number\n",
    "            n = self.rand_qubit_number()\n",
    "            # Apply 1-Qubit gate\n",
    "            self.qasm.append(f\"{gate_name} q[{n}];\")\n",
    "            self.ops.append(f\"qc.{gate_name}({n})\")\n",
    "            self.qc.apply_one_qubit_gate(gate, n)\n",
    "        elif l == 16:\n",
    "            # Randomly select qubit numbers\n",
    "            n0, n1 = -1, -1\n",
    "            while n0 == n1:\n",
    "                n0 = self.rand_qubit_number()\n",
    "                n1 = self.rand_qubit_number()\n",
    "            # Apply 2-Qubit gate\n",
    "            self.qasm.append(f\"{gate_name} q[{n0}], q[{n1}];\")\n",
    "            self.ops.append(f\"qc.{gate_name}({n0}, {n1})\")\n",
    "            self.qc.apply_two_qubit_gate(gate, n0, n1)\n",
    "        else:\n",
    "            raise ValueError(f\"Unimplemented random gate '{gate_name}'\")\n",
    "        \n",
    "    def create(self):\n",
    "        self.qc = QuantumComputer(self.num_qubits)\n",
    "        self.qasm.append('include \"qelib1.inc\";');\n",
    "        self.qasm.append(f\"qreg q[{self.num_qubits}];\")\n",
    "        self.qasm.append(f\"creg c[{self.num_qubits}];\")\n",
    "        self.ops.append(f\"qc = QuantumComputer({self.num_qubits})\")\n",
    "        for i in range(self.num_gates):\n",
    "            self.add_random_gate()\n",
    "        return self.qc\n",
    "            \n",
    "    def rand_gate(self):\n",
    "        gate_names = list(ALL_GATES.keys())\n",
    "        g = np.random.choice(len(gate_names))\n",
    "        gate_name = gate_names[g]\n",
    "        return ALL_GATES[gate_name], gate_name\n",
    "            \n",
    "    def rand_qubit_number(self):\n",
    "        return np.random.randint(0, self.num_qubits)\n",
    "\n",
    "    def __repr__(self):\n",
    "        qasm = '\\n'.join(self.qasm)\n",
    "        ops = '\\n'.join(self.ops)\n",
    "        return f\"QASM:\\n{qasm}\\n\\nOPS:\\n{ops}\\n\\nQC:\\n{self.qc}\""
   ]
  },
  {
   "cell_type": "markdown",
   "metadata": {},
   "source": [
    "# Test cases"
   ]
  },
  {
   "cell_type": "code",
   "execution_count": null,
   "metadata": {},
   "outputs": [],
   "source": [
    "def check_prob_expected(p, p_expected, epsilon=0.000001):\n",
    "    \"\"\" Check expected probabilty vector \"\"\"\n",
    "    assert np.min(p) >= 0, f\"Error: Probabiltites should be positive, got {p}\"\n",
    "    assert np.max(p) <= 1, f\"Error: Probabiltites should be less or equal to 1, got {p}\"\n",
    "    pe = np.reshape(p_expected, p.shape)\n",
    "    assert np.linalg.norm(p - pe) < epsilon, f\"Error checking expected probability:\\n\\tExpected : {p_expected}\\n\\tReal     : {p}\""
   ]
  },
  {
   "cell_type": "code",
   "execution_count": null,
   "metadata": {},
   "outputs": [],
   "source": [
    "def check_psi_expected(qc, psi_expected, epsilon=0.001, flatten=False, use_max=False):\n",
    "    \"\"\" Check expected state vector \"\"\"\n",
    "    psi = qc.state_flat() if flatten else qc.psi\n",
    "    pe = np.reshape(psi_expected, psi.shape)\n",
    "    if use_max:\n",
    "        diff = np.max(np.abs(psi - pe))\n",
    "    else:\n",
    "        diff = np.linalg.norm(psi - pe)\n",
    "    assert diff < epsilon, f\"Error checking expected state:\\n\\tExpected : {psi_expected}\\n\\tReal     : {psi}\\n\\t Diff: {diff}\""
   ]
  },
  {
   "cell_type": "code",
   "execution_count": null,
   "metadata": {},
   "outputs": [],
   "source": [
    "def check_measurement(num_qubits, qc_ops, p_expected, N=10000, epsilon=0.1):\n",
    "    \"\"\"\n",
    "    Check measurements repeteadly after applying a set of operations 'N' times\n",
    "    \"\"\"\n",
    "    shape = [2] * num_qubits\n",
    "    count = np.zeros(shape)\n",
    "    for i in range(N):\n",
    "        qc = QuantumComputer(num_qubits)\n",
    "        qc_ops(qc)\n",
    "        idx = [0] * num_qubits\n",
    "        for i in range(num_qubits):\n",
    "            bit = qc.measure(i)\n",
    "            idx[i] = bit\n",
    "        idx = tuple(idx)\n",
    "        count[idx] += 1\n",
    "    p = count / N\n",
    "    check_prob_expected(p, p_expected, epsilon)"
   ]
  },
  {
   "cell_type": "markdown",
   "metadata": {},
   "source": [
    "### Test cases: One Qubit gate"
   ]
  },
  {
   "cell_type": "code",
   "execution_count": null,
   "metadata": {},
   "outputs": [],
   "source": [
    "qc = QuantumComputer(1)\n",
    "qc.identity(0)\n",
    "check_psi_expected(qc, psi_expected=[1, 0])"
   ]
  },
  {
   "cell_type": "code",
   "execution_count": null,
   "metadata": {},
   "outputs": [],
   "source": [
    "qc = QuantumComputer(1)\n",
    "qc.x(0)\n",
    "check_psi_expected(qc, psi_expected=[0, 1])"
   ]
  },
  {
   "cell_type": "code",
   "execution_count": null,
   "metadata": {},
   "outputs": [],
   "source": [
    "qc = QuantumComputer(1)\n",
    "qc.h(0)\n",
    "check_psi_expected(qc, psi_expected=[OOST, OOST])"
   ]
  },
  {
   "cell_type": "code",
   "execution_count": null,
   "metadata": {},
   "outputs": [],
   "source": [
    "qc = QuantumComputer(1)\n",
    "qc.x(0)\n",
    "qc.z(0)\n",
    "check_psi_expected(qc, psi_expected=[0, -1])"
   ]
  },
  {
   "cell_type": "code",
   "execution_count": null,
   "metadata": {},
   "outputs": [],
   "source": [
    "qc = QuantumComputer(1)\n",
    "qc.y(0)\n",
    "check_psi_expected(qc, psi_expected=[0, 1j])"
   ]
  },
  {
   "cell_type": "code",
   "execution_count": null,
   "metadata": {},
   "outputs": [],
   "source": [
    "qc = QuantumComputer(1)\n",
    "qc.x(0)\n",
    "qc.y(0)\n",
    "check_psi_expected(qc, psi_expected=[-1j, 0])"
   ]
  },
  {
   "cell_type": "code",
   "execution_count": null,
   "metadata": {},
   "outputs": [],
   "source": [
    "qc = QuantumComputer(2)\n",
    "qc.x(0)\n",
    "check_psi_expected(qc, psi_expected=[0, 0, 1, 0])"
   ]
  },
  {
   "cell_type": "code",
   "execution_count": null,
   "metadata": {},
   "outputs": [],
   "source": [
    "qc = QuantumComputer(2)\n",
    "qc.x(1)\n",
    "check_psi_expected(qc, psi_expected=[0, 1, 0, 0])"
   ]
  },
  {
   "cell_type": "code",
   "execution_count": null,
   "metadata": {},
   "outputs": [],
   "source": [
    "qc = QuantumComputer(2)\n",
    "qc.x(1)\n",
    "qc.x(0)\n",
    "check_psi_expected(qc, psi_expected=[0, 0, 0, 1])"
   ]
  },
  {
   "cell_type": "code",
   "execution_count": null,
   "metadata": {},
   "outputs": [],
   "source": [
    "qc = QuantumComputer(2)\n",
    "qc.x(0)\n",
    "qc.x(1)\n",
    "check_psi_expected(qc, psi_expected=[0, 0, 0, 1])"
   ]
  },
  {
   "cell_type": "code",
   "execution_count": null,
   "metadata": {},
   "outputs": [],
   "source": [
    "qc = QuantumComputer(3)\n",
    "qc.x(0)\n",
    "check_psi_expected(qc, psi_expected=[0, 0, 0, 0, 1, 0, 0, 0])"
   ]
  },
  {
   "cell_type": "code",
   "execution_count": null,
   "metadata": {},
   "outputs": [],
   "source": [
    "qc = QuantumComputer(3)\n",
    "qc.x(1)\n",
    "check_psi_expected(qc, psi_expected=[0, 0, 1, 0, 0, 0, 0, 0])"
   ]
  },
  {
   "cell_type": "code",
   "execution_count": null,
   "metadata": {},
   "outputs": [],
   "source": [
    "qc = QuantumComputer(3)\n",
    "qc.x(2)\n",
    "check_psi_expected(qc, psi_expected=[0, 1, 0, 0, 0, 0, 0, 0])"
   ]
  },
  {
   "cell_type": "code",
   "execution_count": null,
   "metadata": {},
   "outputs": [],
   "source": [
    "qc = QuantumComputer(3)\n",
    "qc.x(0)\n",
    "qc.x(1)\n",
    "qc.x(2)\n",
    "check_psi_expected(qc, psi_expected=[0, 0, 0, 0, 0, 0, 0, 1])"
   ]
  },
  {
   "cell_type": "code",
   "execution_count": null,
   "metadata": {},
   "outputs": [],
   "source": [
    "qc = QuantumComputer(3)\n",
    "qc.h(2)\n",
    "check_psi_expected(qc, psi_expected=[OOST, OOST, 0, 0, 0, 0, 0, 0])"
   ]
  },
  {
   "cell_type": "code",
   "execution_count": null,
   "metadata": {},
   "outputs": [],
   "source": [
    "qc = QuantumComputer(3)\n",
    "qc.h(0)\n",
    "check_psi_expected(qc, psi_expected=[OOST, 0, 0, 0, OOST, 0, 0, 0])"
   ]
  },
  {
   "cell_type": "markdown",
   "metadata": {},
   "source": [
    "### Test cases: 2-Qubit gates"
   ]
  },
  {
   "cell_type": "markdown",
   "metadata": {},
   "source": [
    "CNOT using control qubit 0, target qubit 1, i.e.:\n",
    "```\n",
    "cnot 0, 1\n",
    "```\n"
   ]
  },
  {
   "cell_type": "code",
   "execution_count": null,
   "metadata": {},
   "outputs": [],
   "source": [
    "# CNOT |00> = |00>\n",
    "qc = QuantumComputer(2)\n",
    "qc.cnot(0, 1)\n",
    "check_psi_expected(qc, psi_expected=[1, 0, 0, 0])"
   ]
  },
  {
   "cell_type": "code",
   "execution_count": null,
   "metadata": {},
   "outputs": [],
   "source": [
    "# CNOT |01> = |01>\n",
    "qc = QuantumComputer(2)\n",
    "qc.x(1)\n",
    "qc.cnot(0, 1)\n",
    "check_psi_expected(qc, psi_expected=[0, 1, 0, 0])"
   ]
  },
  {
   "cell_type": "code",
   "execution_count": null,
   "metadata": {},
   "outputs": [],
   "source": [
    "# CNOT |10> = |11>\n",
    "qc = QuantumComputer(2)\n",
    "qc.x(0)\n",
    "qc.cnot(0, 1)\n",
    "check_psi_expected(qc, psi_expected=[0, 0, 0, 1])"
   ]
  },
  {
   "cell_type": "code",
   "execution_count": null,
   "metadata": {},
   "outputs": [],
   "source": [
    "# CNOT |11> = |10>\n",
    "qc = QuantumComputer(2)\n",
    "qc.x(0)\n",
    "qc.x(1)\n",
    "qc.cnot(0, 1)\n",
    "check_psi_expected(qc, psi_expected=[0, 0, 1, 0])"
   ]
  },
  {
   "cell_type": "markdown",
   "metadata": {},
   "source": [
    "CNOT using control qubit 1, target qubit 0, i.e.:\n",
    "```\n",
    "cnot 1, 0\n",
    "```\n"
   ]
  },
  {
   "cell_type": "code",
   "execution_count": null,
   "metadata": {
    "tags": []
   },
   "outputs": [],
   "source": [
    "# CNOT with control 1 and target 0\n",
    "qc = QuantumComputer(2)\n",
    "qc.cnot(1, 0)\n",
    "check_psi_expected(qc, psi_expected=[1, 0, 0, 0])"
   ]
  },
  {
   "cell_type": "code",
   "execution_count": null,
   "metadata": {},
   "outputs": [],
   "source": [
    "# CNOT with control 1 and target 0\n",
    "qc = QuantumComputer(2)\n",
    "qc.x(0)\n",
    "qc.cnot(1, 0)\n",
    "check_psi_expected(qc, psi_expected=[0, 0, 1, 0])"
   ]
  },
  {
   "cell_type": "code",
   "execution_count": null,
   "metadata": {},
   "outputs": [],
   "source": [
    "# CNOT with control 1 and target 0\n",
    "qc = QuantumComputer(2)\n",
    "qc.x(1)\n",
    "qc.cnot(1, 0)\n",
    "check_psi_expected(qc, psi_expected=[0, 0, 0, 1])"
   ]
  },
  {
   "cell_type": "code",
   "execution_count": null,
   "metadata": {},
   "outputs": [],
   "source": [
    "# CNOT with control 1 and target 0\n",
    "qc = QuantumComputer(2)\n",
    "qc.x(0)\n",
    "qc.x(1)\n",
    "qc.cnot(1, 0)\n",
    "check_psi_expected(qc, psi_expected=[0, 1, 0, 0])"
   ]
  },
  {
   "cell_type": "code",
   "execution_count": null,
   "metadata": {},
   "outputs": [],
   "source": [
    "# Entaglement\n",
    "qc = QuantumComputer(2)\n",
    "qc.h(0)\n",
    "qc.cnot(0, 1)\n",
    "check_psi_expected(qc, psi_expected=[OOST, 0, 0, OOST])"
   ]
  },
  {
   "cell_type": "markdown",
   "metadata": {
    "tags": []
   },
   "source": [
    "CNOT with 3 qubits: Control qubit 2, target qubit 1\n",
    "```\n",
    "   cnot 2, 1\n",
    "```"
   ]
  },
  {
   "cell_type": "code",
   "execution_count": null,
   "metadata": {
    "tags": []
   },
   "outputs": [],
   "source": [
    "# CNOT |000> = |000>\n",
    "qc = QuantumComputer(3)\n",
    "qc.cnot(2, 1)\n",
    "check_psi_expected(qc, psi_expected=[1, 0, 0, 0, 0, 0, 0, 0])"
   ]
  },
  {
   "cell_type": "code",
   "execution_count": null,
   "metadata": {
    "tags": []
   },
   "outputs": [],
   "source": [
    "# CNOT |001> = |011>\n",
    "qc = QuantumComputer(3)\n",
    "qc.x(2)\n",
    "qc.cnot(2, 1)\n",
    "check_psi_expected(qc, psi_expected=[0, 0, 0, 1, 0, 0, 0, 0])"
   ]
  },
  {
   "cell_type": "code",
   "execution_count": null,
   "metadata": {
    "tags": []
   },
   "outputs": [],
   "source": [
    "# CNOT |011> = |001>\n",
    "qc = QuantumComputer(3)\n",
    "qc.x(1)\n",
    "qc.x(2)\n",
    "qc.cnot(2, 1)\n",
    "check_psi_expected(qc, psi_expected=[0, 1, 0, 0, 0, 0, 0, 0])"
   ]
  },
  {
   "cell_type": "markdown",
   "metadata": {
    "tags": []
   },
   "source": [
    "CZ with 3 qubits: Control qubit 2, target qubit 1\n",
    "```\n",
    "   cz 2, 1\n",
    "```"
   ]
  },
  {
   "cell_type": "code",
   "execution_count": null,
   "metadata": {
    "tags": []
   },
   "outputs": [],
   "source": [
    "# CZ |011> = |001>\n",
    "qc = QuantumComputer(3)\n",
    "qc.x(1)\n",
    "qc.x(2)\n",
    "qc.cz(2, 1)\n",
    "check_psi_expected(qc, psi_expected=[0, 0, 0, -1, 0, 0, 0, 0])"
   ]
  },
  {
   "cell_type": "code",
   "execution_count": null,
   "metadata": {
    "tags": []
   },
   "outputs": [],
   "source": [
    "# CZ |001> = |001>\n",
    "qc = QuantumComputer(3)\n",
    "qc.x(2)\n",
    "qc.cz(2, 1)\n",
    "check_psi_expected(qc, psi_expected=[0, 1, 0, 0, 0, 0, 0, 0])"
   ]
  },
  {
   "cell_type": "code",
   "execution_count": null,
   "metadata": {
    "tags": []
   },
   "outputs": [],
   "source": [
    "# CZ |001> = |001>\n",
    "qc = QuantumComputer(3)\n",
    "qc.x(0)\n",
    "qc.x(2)\n",
    "qc.cz(2, 0)\n",
    "check_psi_expected(qc, psi_expected=[0, 0, 0, 0, 0, -1, 0, 0])"
   ]
  },
  {
   "cell_type": "markdown",
   "metadata": {},
   "source": [
    "### Tests: Probabilities"
   ]
  },
  {
   "cell_type": "code",
   "execution_count": null,
   "metadata": {
    "tags": []
   },
   "outputs": [],
   "source": [
    "qc = QuantumComputer(1)\n",
    "qc.identity(0)\n",
    "p = qc.probabilities(0)\n",
    "check_prob_expected(p, [1, 0])"
   ]
  },
  {
   "cell_type": "code",
   "execution_count": null,
   "metadata": {
    "tags": []
   },
   "outputs": [],
   "source": [
    "qc = QuantumComputer(1)\n",
    "qc.x(0)\n",
    "p = qc.probabilities(0)\n",
    "check_prob_expected(p, [0, 1])"
   ]
  },
  {
   "cell_type": "code",
   "execution_count": null,
   "metadata": {
    "tags": []
   },
   "outputs": [],
   "source": [
    "qc = QuantumComputer(1)\n",
    "qc.h(0)\n",
    "p = qc.probabilities(0)\n",
    "check_prob_expected(p, [1/2, 1/2])"
   ]
  },
  {
   "cell_type": "code",
   "execution_count": null,
   "metadata": {
    "tags": []
   },
   "outputs": [],
   "source": [
    "qc = QuantumComputer(2)\n",
    "qc.x(0)\n",
    "\n",
    "p0 = qc.probabilities(0)\n",
    "p1 = qc.probabilities(1)\n",
    "\n",
    "check_prob_expected(p0, [0, 1])\n",
    "check_prob_expected(p1, [1, 0])"
   ]
  },
  {
   "cell_type": "code",
   "execution_count": null,
   "metadata": {
    "tags": []
   },
   "outputs": [],
   "source": [
    "qc = QuantumComputer(2)\n",
    "qc.x(0)\n",
    "qc.x(1)\n",
    "p0 = qc.probabilities(0)\n",
    "p1 = qc.probabilities(1)\n",
    "check_prob_expected(p0, [0, 1])\n",
    "check_prob_expected(p1, [0, 1])"
   ]
  },
  {
   "cell_type": "code",
   "execution_count": null,
   "metadata": {
    "tags": []
   },
   "outputs": [],
   "source": [
    "qc = QuantumComputer(2)\n",
    "qc.h(0)\n",
    "qc.h(1)\n",
    "p0 = qc.probabilities(0)\n",
    "p1 = qc.probabilities(1)\n",
    "check_prob_expected(p0, [1/2, 1/2])\n",
    "check_prob_expected(p1, [1/2, 1/2])"
   ]
  },
  {
   "cell_type": "markdown",
   "metadata": {},
   "source": [
    "### Tets: Measurement"
   ]
  },
  {
   "cell_type": "code",
   "execution_count": null,
   "metadata": {},
   "outputs": [],
   "source": [
    "def qc_ops(qc):\n",
    "    qc.z(0)\n",
    "\n",
    "check_measurement(1, qc_ops, p_expected=[1, 0])"
   ]
  },
  {
   "cell_type": "code",
   "execution_count": null,
   "metadata": {},
   "outputs": [],
   "source": [
    "def qc_ops(qc):\n",
    "    qc.x(0)\n",
    "\n",
    "check_measurement(1, qc_ops, p_expected=[0, 1])"
   ]
  },
  {
   "cell_type": "code",
   "execution_count": null,
   "metadata": {},
   "outputs": [],
   "source": [
    "def qc_ops(qc):\n",
    "    qc.x(0)\n",
    "    qc.x(1)\n",
    "\n",
    "\n",
    "check_measurement(2, qc_ops, p_expected=[[0, 0], [0, 1]])"
   ]
  },
  {
   "cell_type": "code",
   "execution_count": null,
   "metadata": {},
   "outputs": [],
   "source": [
    "def qc_ops(qc):\n",
    "    qc.h(0)\n",
    "\n",
    "check_measurement(1, qc_ops, p_expected=[0.5, 0.5])"
   ]
  },
  {
   "cell_type": "code",
   "execution_count": null,
   "metadata": {},
   "outputs": [],
   "source": [
    "def qc_ops(qc):\n",
    "    qc.h(0)\n",
    "    qc.cnot(0, 1)\n",
    "\n",
    "check_measurement(2, qc_ops, p_expected=[0.5, 0, 0, 0.5])"
   ]
  },
  {
   "cell_type": "markdown",
   "metadata": {},
   "source": [
    "### Test: Random circuits\n",
    "\n",
    "Create random circuits and compare them to IBM's Quantum composer's results"
   ]
  },
  {
   "cell_type": "code",
   "execution_count": null,
   "metadata": {},
   "outputs": [],
   "source": [
    "# Random circuit, 2 qubits, 8 operations\n",
    "qc = QuantumComputer(2)\n",
    "qc.sx(1)\n",
    "qc.cx(0, 1)\n",
    "qc.z(0)\n",
    "qc.cx(0, 1)\n",
    "check_psi_expected(qc, psi_expected=[0.5+0.5j, 0+0j, 0.5-0.5j, 0+0j], flatten=True)"
   ]
  },
  {
   "cell_type": "code",
   "execution_count": null,
   "metadata": {},
   "outputs": [],
   "source": [
    "# Random circuit, 2 qubits, 8 operations\n",
    "qc = QuantumComputer(2)\n",
    "qc.sx(1)\n",
    "qc.cx(0, 1)\n",
    "qc.z(0)\n",
    "qc.cx(0, 1)\n",
    "qc.cx(1, 0)\n",
    "qc.t(0)\n",
    "qc.y(1)\n",
    "qc.t(1)\n",
    "\n",
    "check_psi_expected(qc, psi_expected=[0+0j, 0-0.707j, -0.707+0j, 0+0j], flatten=True)"
   ]
  },
  {
   "cell_type": "code",
   "execution_count": null,
   "metadata": {},
   "outputs": [],
   "source": [
    "# Random circuit, 4 qubits, 32 operations\n",
    "qc = QuantumComputer(4)\n",
    "qc.sx(3)\n",
    "qc.cx(2, 1)\n",
    "qc.z(2)\n",
    "qc.cx(0, 3)\n",
    "qc.cx(3, 2)\n",
    "qc.t(0)\n",
    "qc.y(3)\n",
    "qc.t(1)\n",
    "qc.s(0)\n",
    "qc.t(0)\n",
    "qc.cz(0, 2)\n",
    "qc.z(3)\n",
    "qc.sx(3)\n",
    "qc.cz(2, 0)\n",
    "qc.z(2)\n",
    "qc.s(0)\n",
    "qc.sx(1)\n",
    "qc.h(0)\n",
    "qc.y(1)\n",
    "qc.cz(1, 0)\n",
    "qc.y(3)\n",
    "qc.sx(3)\n",
    "qc.cx(1, 0)\n",
    "qc.h(1)\n",
    "qc.cx(3, 1)\n",
    "qc.t(1)\n",
    "qc.h(1)\n",
    "qc.y(1)\n",
    "qc.y(1)\n",
    "qc.h(1)\n",
    "qc.cx(1, 2)\n",
    "qc.cz(1, 3)\n",
    "\n",
    "check_psi_expected(qc, psi_expected=[-0.25-0.25j, -0.25+0.25j, 0, 0, 0, 0, -0.354, -0.354j, 0, 0, 0.354, -0.354j, 0.25+0.25j, -0.25+0.25j, 0, 0], flatten=True)"
   ]
  },
  {
   "cell_type": "code",
   "execution_count": null,
   "metadata": {},
   "outputs": [],
   "source": [
    "# Random circuit, 7 qubits, 256 operations\n",
    "qc = QuantumComputer(7)\n",
    "qc.sx(3)\n",
    "qc.cx(6, 1)\n",
    "qc.z(6)\n",
    "qc.cx(4, 3)\n",
    "qc.cx(2, 5)\n",
    "qc.s(1)\n",
    "qc.cx(3, 5)\n",
    "qc.t(1)\n",
    "qc.s(0)\n",
    "qc.t(4)\n",
    "qc.cz(0, 2)\n",
    "qc.z(3)\n",
    "qc.sx(3)\n",
    "qc.cz(2, 4)\n",
    "qc.z(6)\n",
    "qc.s(0)\n",
    "qc.sx(1)\n",
    "qc.h(0)\n",
    "qc.y(1)\n",
    "qc.cz(1, 4)\n",
    "qc.y(3)\n",
    "qc.sx(3)\n",
    "qc.cx(6, 2)\n",
    "qc.x(3)\n",
    "qc.y(3)\n",
    "qc.y(5)\n",
    "qc.t(5)\n",
    "qc.h(5)\n",
    "qc.y(1)\n",
    "qc.y(1)\n",
    "qc.h(5)\n",
    "qc.cx(5, 6)\n",
    "qc.cz(5, 4)\n",
    "qc.y(6)\n",
    "qc.s(1)\n",
    "qc.cz(3, 4)\n",
    "qc.cz(4, 6)\n",
    "qc.x(0)\n",
    "qc.sx(0)\n",
    "qc.cx(0, 3)\n",
    "qc.cx(6, 2)\n",
    "qc.z(0)\n",
    "qc.cx(0, 2)\n",
    "qc.s(1)\n",
    "qc.sx(1)\n",
    "qc.cz(3, 6)\n",
    "qc.cz(3, 1)\n",
    "qc.x(6)\n",
    "qc.sx(5)\n",
    "qc.cx(4, 2)\n",
    "qc.cx(5, 2)\n",
    "qc.z(0)\n",
    "qc.z(4)\n",
    "qc.z(0)\n",
    "qc.s(1)\n",
    "qc.sx(6)\n",
    "qc.sx(2)\n",
    "qc.cz(3, 4)\n",
    "qc.z(6)\n",
    "qc.sx(0)\n",
    "qc.h(4)\n",
    "qc.h(5)\n",
    "qc.s(6)\n",
    "qc.sx(4)\n",
    "qc.h(4)\n",
    "qc.sx(2)\n",
    "qc.z(5)\n",
    "qc.y(1)\n",
    "qc.cz(4, 5)\n",
    "qc.h(5)\n",
    "qc.sx(3)\n",
    "qc.cz(6, 5)\n",
    "qc.x(0)\n",
    "qc.cz(2, 5)\n",
    "qc.cz(3, 4)\n",
    "qc.cz(2, 6)\n",
    "qc.t(2)\n",
    "qc.cz(5, 4)\n",
    "qc.x(2)\n",
    "qc.cx(6, 2)\n",
    "qc.t(0)\n",
    "qc.h(0)\n",
    "qc.x(1)\n",
    "qc.h(3)\n",
    "qc.sx(1)\n",
    "qc.z(0)\n",
    "qc.s(0)\n",
    "qc.cx(0, 2)\n",
    "qc.x(1)\n",
    "qc.y(3)\n",
    "qc.t(6)\n",
    "qc.s(0)\n",
    "qc.x(2)\n",
    "qc.y(4)\n",
    "qc.t(6)\n",
    "qc.h(6)\n",
    "qc.cx(2, 0)\n",
    "qc.t(4)\n",
    "qc.h(1)\n",
    "qc.t(5)\n",
    "qc.x(0)\n",
    "qc.t(4)\n",
    "qc.z(3)\n",
    "qc.h(2)\n",
    "qc.z(6)\n",
    "qc.z(3)\n",
    "qc.sx(3)\n",
    "qc.cz(0, 6)\n",
    "qc.y(0)\n",
    "qc.cz(0, 1)\n",
    "qc.sx(6)\n",
    "qc.z(6)\n",
    "qc.cz(0, 1)\n",
    "qc.x(5)\n",
    "qc.s(4)\n",
    "qc.sx(0)\n",
    "qc.cz(2, 3)\n",
    "qc.cx(5, 0)\n",
    "qc.cx(3, 2)\n",
    "qc.x(3)\n",
    "qc.t(3)\n",
    "qc.z(5)\n",
    "qc.cz(2, 0)\n",
    "qc.y(5)\n",
    "qc.y(1)\n",
    "qc.t(2)\n",
    "qc.cz(3, 0)\n",
    "qc.h(0)\n",
    "qc.s(3)\n",
    "qc.cx(6, 2)\n",
    "qc.x(0)\n",
    "qc.z(5)\n",
    "qc.sx(5)\n",
    "qc.t(5)\n",
    "qc.z(5)\n",
    "qc.cx(1, 4)\n",
    "qc.x(3)\n",
    "qc.x(4)\n",
    "qc.z(3)\n",
    "qc.z(0)\n",
    "qc.x(3)\n",
    "qc.s(5)\n",
    "qc.z(3)\n",
    "qc.cz(0, 5)\n",
    "qc.s(6)\n",
    "qc.z(3)\n",
    "qc.x(3)\n",
    "qc.s(6)\n",
    "qc.x(2)\n",
    "qc.y(0)\n",
    "qc.t(1)\n",
    "qc.z(5)\n",
    "qc.cx(1, 6)\n",
    "qc.t(6)\n",
    "qc.y(6)\n",
    "qc.y(1)\n",
    "qc.x(0)\n",
    "qc.cz(2, 5)\n",
    "qc.sx(4)\n",
    "qc.sx(1)\n",
    "qc.z(1)\n",
    "qc.cz(4, 3)\n",
    "qc.sx(0)\n",
    "qc.h(4)\n",
    "qc.h(0)\n",
    "qc.cx(3, 2)\n",
    "qc.sx(6)\n",
    "qc.y(1)\n",
    "qc.sx(6)\n",
    "qc.t(2)\n",
    "qc.cz(1, 6)\n",
    "qc.t(1)\n",
    "qc.t(0)\n",
    "qc.h(1)\n",
    "qc.t(6)\n",
    "qc.t(2)\n",
    "qc.s(0)\n",
    "qc.cx(4, 3)\n",
    "qc.s(6)\n",
    "qc.h(5)\n",
    "qc.h(5)\n",
    "qc.z(6)\n",
    "qc.cx(3, 4)\n",
    "qc.y(3)\n",
    "qc.z(0)\n",
    "qc.cx(6, 2)\n",
    "qc.sx(1)\n",
    "qc.s(1)\n",
    "qc.s(5)\n",
    "qc.sx(6)\n",
    "qc.cz(3, 4)\n",
    "qc.x(1)\n",
    "qc.x(6)\n",
    "qc.y(5)\n",
    "qc.t(0)\n",
    "qc.cx(0, 4)\n",
    "qc.sx(6)\n",
    "qc.s(5)\n",
    "qc.sx(2)\n",
    "qc.z(4)\n",
    "qc.t(0)\n",
    "qc.s(6)\n",
    "qc.x(5)\n",
    "qc.h(4)\n",
    "qc.s(6)\n",
    "qc.h(0)\n",
    "qc.s(6)\n",
    "qc.t(4)\n",
    "qc.h(1)\n",
    "qc.h(6)\n",
    "qc.z(1)\n",
    "qc.x(4)\n",
    "qc.h(6)\n",
    "qc.y(0)\n",
    "qc.h(3)\n",
    "qc.y(2)\n",
    "qc.x(0)\n",
    "qc.z(2)\n",
    "qc.s(3)\n",
    "qc.z(0)\n",
    "qc.x(1)\n",
    "qc.y(4)\n",
    "qc.z(1)\n",
    "qc.z(6)\n",
    "qc.x(1)\n",
    "qc.cx(4, 1)\n",
    "qc.y(2)\n",
    "qc.cz(6, 3)\n",
    "qc.s(1)\n",
    "qc.cx(3, 0)\n",
    "qc.s(4)\n",
    "qc.cz(3, 1)\n",
    "qc.s(0)\n",
    "qc.cx(2, 0)\n",
    "qc.z(3)\n",
    "qc.y(0)\n",
    "qc.sx(6)\n",
    "qc.s(3)\n",
    "qc.x(6)\n",
    "qc.sx(0)\n",
    "qc.z(0)\n",
    "qc.x(0)\n",
    "qc.h(0)\n",
    "qc.t(4)\n",
    "qc.z(0)\n",
    "qc.h(3)\n",
    "qc.cz(2, 3)\n",
    "qc.cz(6, 3)\n",
    "qc.h(2)\n",
    "qc.s(4)\n",
    "qc.z(3)\n",
    "qc.cz(3, 2)\n",
    "qc.s(3)\n",
    "qc.s(6)\n",
    "qc.cz(6, 4)\n",
    "qc.s(1)\n",
    "\n",
    "check_psi_expected(qc\n",
    "                   , psi_expected=[ 0.053-0.066j, 0.04-0.009j, 0.035+0.022j, 0.129+0.009j, 0.022+0.035j, 0.009+0.04j, 0.066-0.053j, 0.098+0.085j, 0.022+0.053j, 0.116+0.04j, -0.085+0.079j, 0.053+0.022j, 0.098-0.04j, -0.022+0.035j, -0.072+0.022j, 0.129-0.009j, 0.053+0.085j, 0.066-0.009j, 0.053+0.004j, 0.022-0.098j, 0.085-0.053j, 0.098-0.022j, -0.04-0.035j, -0.009+0.066j, 0.085-0.072j, -0.009-0.022j, 0.022+0.009j, -0.142+0.04j, 0.098+0.022j, -0.085+0.035j, -0.053+0.004j, 0.022-0.116j, 0.04-0.009j, 0.142-0.066j, -0.009-0.147j, -0.022+0.009j, -0.072+0.022j, -0.085-0.009j, -0.066-0.009j, 0.009-0.066j, -0.066-0.009j, 0.098+0.022j, 0.053+0.022j, -0.085-0.009j, 0.035+0.085j, -0.129+0.053j, 0.022+0.035j, 0.009+0.004j, -0.066-0.079j, -0.053-0.085j, 0.053-0.022j, 0.103-0.053j, -0.053+0.04j, 0.022-0.116j, -0.066+0.053j, -0.053-0.066j, -0.022+0.035j, 0.053+0.066j, 0.053-0.04j, -0.022-0.009j, -0.009+0.004j, 0.04+0.098j, -0.129-0.053j, 0.098-0.022j, 0.053-0.11j, 0.022+0.053j, 0.053+0.022j, 0.103+0.053j, 0.085-0.009j, -0.009+0.129j, -0.04+0.098j, 0.009+0.004j, -0.022-0.035j, 0.053-0.066j, -0.085+0.098j, 0.009-0.04j, 0.053-0.066j, 0.066+0.053j, -0.098+0.04j, -0.04-0.009j, 0.009+0.022j, -0.11+0.009j, -0.009+0.147j, -0.022-0.009j, 0.004-0.053j, -0.053-0.04j, -0.129-0.053j, 0.035-0.085j, -0.066+0.009j, 0.098-0.022j, -0.085-0.053j, 0.035-0.04j, 0.009+0.066j, -0.066+0.009j, 0.053-0.085j, 0.085-0.035j, 0.053-0.085j, 0.066+0.009j, -0.066-0.053j, -0.053-0.022j, 0.022+0.116j, -0.053-0.004j, 0.035+0.066j, -0.066-0.053j, -0.053-0.147j, 0.022+0.035j, 0.022-0.009j, -0.142-0.04j, 0.04-0.009j, -0.009-0.004j, 0.098+0.022j, 0.085+0.053j, 0.053+0.066j, 0.04+0.009j, -0.022-0.009j, -0.009-0.066j, -0.129-0.009j, 0.072+0.022j, -0.009-0.066j, 0.066-0.098j, 0.098-0.022j, -0.103+0.009j, -0.085-0.079j, 0.053-0.022j, 0.129+0.053j, 0.053+0.085j, -0.009+0.04j, -0.022+0.035j ]\n",
    "                   , flatten=True\n",
    "                   , use_max=True\n",
    "                  )"
   ]
  },
  {
   "cell_type": "code",
   "execution_count": null,
   "metadata": {},
   "outputs": [],
   "source": [
    "# Random circuit, 6 Qubits, 128 operations\n",
    "qc = QuantumComputer(6)\n",
    "qc.x(1)\n",
    "qc.y(0)\n",
    "qc.cx(0, 2)\n",
    "qc.cz(0, 5)\n",
    "qc.y(3)\n",
    "qc.h(0)\n",
    "qc.x(3)\n",
    "qc.sx(0)\n",
    "qc.x(2)\n",
    "qc.y(2)\n",
    "qc.x(5)\n",
    "qc.cx(5, 1)\n",
    "qc.cx(4, 0)\n",
    "qc.z(2)\n",
    "qc.h(4)\n",
    "qc.y(2)\n",
    "qc.x(5)\n",
    "qc.s(2)\n",
    "qc.t(0)\n",
    "qc.cx(5, 0)\n",
    "qc.z(4)\n",
    "qc.x(1)\n",
    "qc.s(1)\n",
    "qc.cz(3, 1)\n",
    "qc.t(3)\n",
    "qc.z(1)\n",
    "qc.cx(2, 1)\n",
    "qc.cx(4, 1)\n",
    "qc.sx(2)\n",
    "qc.cx(2, 1)\n",
    "qc.y(2)\n",
    "qc.s(3)\n",
    "qc.x(4)\n",
    "qc.s(4)\n",
    "qc.cx(0, 1)\n",
    "qc.z(2)\n",
    "qc.t(2)\n",
    "qc.cz(0, 4)\n",
    "qc.sx(0)\n",
    "qc.cz(3, 4)\n",
    "qc.h(1)\n",
    "qc.z(3)\n",
    "qc.z(3)\n",
    "qc.cx(3, 4)\n",
    "qc.cx(5, 3)\n",
    "qc.h(4)\n",
    "qc.h(2)\n",
    "qc.cz(1, 3)\n",
    "qc.z(3)\n",
    "qc.y(1)\n",
    "qc.z(2)\n",
    "qc.s(2)\n",
    "qc.x(4)\n",
    "qc.h(0)\n",
    "qc.h(0)\n",
    "qc.h(5)\n",
    "qc.cx(4, 5)\n",
    "qc.z(0)\n",
    "qc.x(5)\n",
    "qc.z(2)\n",
    "qc.cz(0, 4)\n",
    "qc.x(3)\n",
    "qc.x(5)\n",
    "qc.z(5)\n",
    "qc.x(0)\n",
    "qc.t(4)\n",
    "qc.t(3)\n",
    "qc.t(4)\n",
    "qc.cz(2, 1)\n",
    "qc.y(5)\n",
    "qc.y(3)\n",
    "qc.t(4)\n",
    "qc.y(2)\n",
    "qc.cz(3, 4)\n",
    "qc.z(4)\n",
    "qc.z(5)\n",
    "qc.s(5)\n",
    "qc.cz(0, 1)\n",
    "qc.h(1)\n",
    "qc.cx(0, 4)\n",
    "qc.h(3)\n",
    "qc.y(1)\n",
    "qc.sx(3)\n",
    "qc.z(4)\n",
    "qc.cx(1, 2)\n",
    "qc.x(1)\n",
    "qc.cz(2, 4)\n",
    "qc.x(2)\n",
    "qc.t(5)\n",
    "qc.cz(1, 0)\n",
    "qc.x(3)\n",
    "qc.z(5)\n",
    "qc.sx(3)\n",
    "qc.y(3)\n",
    "qc.t(4)\n",
    "qc.cx(2, 3)\n",
    "qc.x(3)\n",
    "qc.h(2)\n",
    "qc.x(1)\n",
    "qc.y(3)\n",
    "qc.s(5)\n",
    "qc.cz(3, 1)\n",
    "qc.y(3)\n",
    "qc.sx(1)\n",
    "qc.cz(4, 5)\n",
    "qc.s(4)\n",
    "qc.s(4)\n",
    "qc.cx(1, 2)\n",
    "qc.y(2)\n",
    "qc.z(3)\n",
    "qc.t(2)\n",
    "qc.y(5)\n",
    "qc.cz(3, 2)\n",
    "qc.h(5)\n",
    "qc.x(4)\n",
    "qc.h(1)\n",
    "qc.x(4)\n",
    "qc.h(4)\n",
    "qc.t(0)\n",
    "qc.s(1)\n",
    "qc.x(4)\n",
    "qc.s(4)\n",
    "qc.t(4)\n",
    "qc.t(3)\n",
    "qc.h(0)\n",
    "qc.z(5)\n",
    "qc.sx(4)\n",
    "qc.cx(3, 0)\n",
    "\n",
    "check_psi_expected(qc\n",
    "                   , psi_expected=[ -0.044-0.062j, 0.044+0.062j, -0.062+0.018j, -0.062+0.107j, 0.075+0.013j, -0.075-0.013j, -0.031+0.057j, 0.031+0.12j, 0.031+0.12j, -0.031+0.057j, -0.075-0.013j, 0.075+0.013j, 0.107+0.062j, 0.018+0.062j, 0.062-0.044j, -0.062+0.044j, -0.018-0.062j, -0.107-0.062j, -0.062-0.044j, 0.062+0.044j, 0.057+0.031j, 0.12-0.031j, -0.075+0.013j, 0.075-0.013j, 0.075-0.013j, -0.075+0.013j, 0.12-0.031j, 0.057+0.031j, 0.044-0.062j, -0.044+0.062j, -0.062+0.107j, -0.062+0.018j, 0.062-0.018j, 0.062-0.107j, 0.044-0.062j, -0.044+0.062j, -0.031+0.057j, 0.031+0.12j, -0.013-0.075j, 0.013+0.075j, 0.013+0.075j, -0.013-0.075j, 0.031+0.12j, -0.031+0.057j, 0.062+0.044j, -0.062-0.044j, -0.107-0.062j, -0.018-0.062j, 0.187-0.081j, 0.062-0.169j, 0.07-0.187j, -0.195+0.062j, -0.075+0.19j, 0.075+0.164j, -0.083-0.182j, -0.094+0.182j, -0.094+0.182j, -0.083-0.182j, 0.075+0.164j, -0.075+0.19j, 0.062+0.195j, -0.187-0.07j, -0.169-0.062j, -0.081-0.187j ]\n",
    "                  , flatten=True\n",
    "                   , use_max=True\n",
    "                  )"
   ]
  },
  {
   "cell_type": "code",
   "execution_count": null,
   "metadata": {},
   "outputs": [],
   "source": []
  },
  {
   "cell_type": "code",
   "execution_count": null,
   "metadata": {
    "tags": []
   },
   "outputs": [],
   "source": [
    "# Two entangled qubits (Bell state)\n",
    "qc = QuantumComputer(2)\n",
    "qc.h(0)\n",
    "qc.cnot(0, 1)\n",
    "qc"
   ]
  },
  {
   "cell_type": "code",
   "execution_count": null,
   "metadata": {},
   "outputs": [],
   "source": []
  }
 ],
 "metadata": {
  "kernelspec": {
   "display_name": "quantum_computer_simulator",
   "language": "python",
   "name": "quantum_computer_simulator"
  },
  "language_info": {
   "codemirror_mode": {
    "name": "ipython",
    "version": 3
   },
   "file_extension": ".py",
   "mimetype": "text/x-python",
   "name": "python",
   "nbconvert_exporter": "python",
   "pygments_lexer": "ipython3",
   "version": "3.9.7"
  },
  "toc-autonumbering": false,
  "toc-showcode": false,
  "toc-showmarkdowntxt": true,
  "toc-showtags": false
 },
 "nbformat": 4,
 "nbformat_minor": 4
}
